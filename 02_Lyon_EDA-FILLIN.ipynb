{
 "cells": [
  {
   "cell_type": "markdown",
   "metadata": {},
   "source": [
    "# Predicting the occupancies of Belgian trains"
   ]
  },
  {
   "cell_type": "markdown",
   "metadata": {},
   "source": [
    "## 2. Exploratory Data Analysis\n"
   ]
  },
  {
   "cell_type": "code",
   "execution_count": null,
   "metadata": {
    "collapsed": true
   },
   "outputs": [],
   "source": [
    "#vector/matrix library\n",
    "import numpy as np\n",
    "#data frame library (similar to R)\n",
    "import pandas as pd\n",
    "\n",
    "#visualization library\n",
    "%matplotlib inline\n",
    "import matplotlib.pyplot as plt\n",
    "plt.style.use('ggplot')\n",
    "\n",
    "#regular expression library for data cleasning\n",
    "import re"
   ]
  },
  {
   "cell_type": "code",
   "execution_count": null,
   "metadata": {},
   "outputs": [],
   "source": [
    "dataset = pd.read_csv('json_cleaned.csv')\n",
    "dataset.head(n=3)"
   ]
  },
  {
   "cell_type": "markdown",
   "metadata": {},
   "source": [
    "### 2.1 Occupancy Distribution\n",
    "\n",
    "* Make a pie chart showing the distrubution of the class labels (occupancy). Are they uniformly distributed, and if not what does that imply for future model performance?\n",
    "\n",
    "HINT: use value_counts() and the pandas plot function for pie charts\n",
    "\n"
   ]
  },
  {
   "cell_type": "code",
   "execution_count": null,
   "metadata": {},
   "outputs": [],
   "source": [
    "dataset['occupancy']<FILL_IN>.plot(<FILL_IN>, figsize=(5,5))"
   ]
  },
  {
   "cell_type": "markdown",
   "metadata": {},
   "source": [
    "### 2.2 Vehicle Distribution\n",
    "\n",
    "* Same exercice but now for train types"
   ]
  },
  {
   "cell_type": "code",
   "execution_count": null,
   "metadata": {},
   "outputs": [],
   "source": [
    "dataset['train_type']<FILL_IN>.plot(<FILL_IN>)"
   ]
  },
  {
   "cell_type": "markdown",
   "metadata": {},
   "source": [
    "## 2.3 Querytimes\n",
    "\n",
    "1. Do query times between train and test set overlap? What does this imply?\n",
    "2. Visualize the distribution of records over time (bar plots)\n",
    "    * number of records per month\n",
    "    * number of records per day => pay close attention, what does this chart teach you? \n",
    "    * number of records per weekday\n",
    "\n",
    "HINT: pandas has plenty of support for time series operations. Have a look at the **resample** function, which allows you to aggregate over different time windows. It might be useful to override the current index with the query time values (a **datetime index** allows you to do time based slicing of the dataset, check set_index())"
   ]
  },
  {
   "cell_type": "code",
   "execution_count": null,
   "metadata": {},
   "outputs": [],
   "source": [
    "#1\n"
   ]
  },
  {
   "cell_type": "code",
   "execution_count": null,
   "metadata": {
    "collapsed": true
   },
   "outputs": [],
   "source": [
    "#2a\n",
    "dataset_ind = dataset.set_index(<FILL_IN>)"
   ]
  },
  {
   "cell_type": "code",
   "execution_count": null,
   "metadata": {},
   "outputs": [],
   "source": [
    "fig, ax = plt.subplots(1,1, figsize=(20,10))\n",
    "\n",
    "#dataset_ind => use a datetime index\n",
    "dataset_ind.resample(<FILL_IN>\n",
    "ax.set_xticklabels(['Jul','Aug', 'Sep', 'Oct', 'Nov', 'Dec', 'Jan', 'Feb', 'Mar', 'Apr'])"
   ]
  },
  {
   "cell_type": "code",
   "execution_count": null,
   "metadata": {},
   "outputs": [],
   "source": [
    "fig, ax = plt.subplots(1,1, figsize=(20,10))\n",
    "\n",
    "dataset_ind.resample(<FILL_IN>\n",
    "ax.set_xticklabels([])"
   ]
  },
  {
   "cell_type": "code",
   "execution_count": null,
   "metadata": {
    "collapsed": true
   },
   "outputs": [],
   "source": [
    "#2c\n",
    "dataset['weekday'] = <FILL_IN>\n"
   ]
  },
  {
   "cell_type": "code",
   "execution_count": null,
   "metadata": {},
   "outputs": [],
   "source": [
    "fig, ax = plt.subplots(1,1, figsize=(20,10))\n",
    "\n",
    "dataset.<FILL_IN>.plot\n",
    "\n",
    "ax.set_xticklabels(['Mon', 'Tue', 'Wed', 'Thu', 'Fri', 'Sat', 'Sun'])"
   ]
  },
  {
   "cell_type": "markdown",
   "metadata": {},
   "source": [
    "## 2.4 Querytimes (one more)\n",
    "\n",
    "1. Visualize the distribution over hour of the day => what are you seeing\n",
    "2. Plot this distribution for saturdays and sundays as well\n",
    "3. What happens if you create the previous plot for [start, October] and [November, end] (and plot only weekdays) => what do you think that is happening? How would you fix it => fix it in the first notebook!!"
   ]
  },
  {
   "cell_type": "code",
   "execution_count": null,
   "metadata": {},
   "outputs": [],
   "source": [
    "#1\n",
    "dataset['hour'] = <FILL_IN>\n",
    "\n",
    "fig, ax = plt.subplots(1,1, figsize=(20,10))\n",
    "\n",
    "dataset.<FILL_IN>.plot(kind='bar', ax=ax)"
   ]
  },
  {
   "cell_type": "code",
   "execution_count": null,
   "metadata": {},
   "outputs": [],
   "source": [
    "#2\n",
    "fig, ax = plt.subplots(3,1, figsize=(20,20))\n",
    "\n",
    "dataset<FILL_IN>.plot(kind='bar', ax=ax[0], title='weekday')\n",
    "dataset<FILL_IN>.plot(kind='bar', ax=ax[1], title='saturday')\n",
    "dataset<FILL_IN>.plot(kind='bar', ax=ax[2], title='sunday')"
   ]
  },
  {
   "cell_type": "code",
   "execution_count": null,
   "metadata": {},
   "outputs": [],
   "source": [
    "boundary = \"20161031\"\n",
    "\n",
    "fig, ax = plt.subplots(2,1, figsize=(20,20))\n",
    "\n",
    "dataset_weekdays = <FILL_IN>\n",
    "\n",
    "dataset_weekdays<FILL_IN>.plot(kind='bar', ax=ax[0], title='weekdays [,Oct]')\n",
    "dataset_weekdays<FILL_IN>.plot(kind='bar', ax=ax[1], title='weekdays [Oct,]')\n"
   ]
  },
  {
   "cell_type": "markdown",
   "metadata": {},
   "source": [
    "## 2.5 Occupancy dependence\n",
    "\n",
    "1. How does the occupancy depend on the train type? (use a normalized stacked bar chart)\n",
    "2. How does the occupancy vary per month\n",
    "3. How does the occupancy vary per weekday\n",
    "4. How does the occupancy vary per hour (distinguish between weekday, saturday, sunday)\n",
    "\n",
    "HINT: have a look at pivot_table functionality in pandas\n"
   ]
  },
  {
   "cell_type": "code",
   "execution_count": null,
   "metadata": {},
   "outputs": [],
   "source": [
    "#1\n",
    "piv1 = dataset.pivot_table(<FILL_IN>\n",
    "\n",
    "pivot_norm = <FILL_IN>\n",
    "\n",
    "fig, ax = plt.subplots(1,1, figsize=(20,10))\n",
    "\n",
    "pivot_norm.plot(kind='barh', stacked=True, ax=ax)"
   ]
  },
  {
   "cell_type": "code",
   "execution_count": null,
   "metadata": {
    "collapsed": true
   },
   "outputs": [],
   "source": []
  },
  {
   "cell_type": "code",
   "execution_count": null,
   "metadata": {},
   "outputs": [],
   "source": [
    "#2\n",
    "piv2 = dataset.pivot_table(<FILL_IN>\n",
    "\n",
    "fig, ax = plt.subplots(1,1, figsize=(20,10))\n",
    "\n",
    "piv2.plot(kind='bar', stacked=True, ax=ax)\n",
    "\n",
    "ax.set_xticklabels(['Jan', 'Feb', 'Jul','Aug', 'Sep', 'Oct', 'Nov', 'Dec'])"
   ]
  },
  {
   "cell_type": "code",
   "execution_count": null,
   "metadata": {},
   "outputs": [],
   "source": [
    "#3\n",
    "piv3 = dataset.pivot_table(<FILL_IN>\n",
    "\n",
    "fig, ax = plt.subplots(1,1, figsize=(20,10))\n",
    "\n",
    "piv3.plot(kind='bar', stacked=True, ax=ax)"
   ]
  },
  {
   "cell_type": "code",
   "execution_count": null,
   "metadata": {},
   "outputs": [],
   "source": [
    "#4\n",
    "fig, ax = plt.subplots(3,1, figsize=(20,20))\n",
    "\n",
    "dataset.<FILL_IN>plot(kind='bar', stacked=True, ax=ax[0], title='weekday')\n",
    "dataset.<FILL_IN>.fillna(0).plot(kind='bar', stacked=True, ax=ax[1], title='saturday')\n",
    "dataset.<FILL_IN>.fillna(0).plot(kind='bar', stacked=True, ax=ax[2], title='sunday')"
   ]
  },
  {
   "cell_type": "markdown",
   "metadata": {},
   "source": [
    "## If you would build a simple rule-based model (hand-crafted rules) how would it look like?"
   ]
  },
  {
   "cell_type": "markdown",
   "metadata": {},
   "source": [
    "## I would use features for...\n",
    "\n",
    "* FILL IN\n",
    "* FILL IN\n",
    "* FILL IN\n",
    "* FILL IN\n",
    "* FILL IN\n",
    "* FILL IN\n",
    "\n"
   ]
  },
  {
   "cell_type": "code",
   "execution_count": null,
   "metadata": {
    "collapsed": true
   },
   "outputs": [],
   "source": []
  }
 ],
 "metadata": {
  "kernelspec": {
   "display_name": "Python 3",
   "language": "python",
   "name": "python3"
  },
  "language_info": {
   "codemirror_mode": {
    "name": "ipython",
    "version": 3
   },
   "file_extension": ".py",
   "mimetype": "text/x-python",
   "name": "python",
   "nbconvert_exporter": "python",
   "pygments_lexer": "ipython3",
   "version": "3.6.3"
  }
 },
 "nbformat": 4,
 "nbformat_minor": 2
}
